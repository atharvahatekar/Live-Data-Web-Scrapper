{
 "cells": [
  {
   "cell_type": "markdown",
   "metadata": {},
   "source": [
    "## **Data Scraping**"
   ]
  },
  {
   "cell_type": "markdown",
   "metadata": {},
   "source": [
    "##### **Import All Required Libraries**"
   ]
  },
  {
   "cell_type": "code",
   "execution_count": 1,
   "metadata": {},
   "outputs": [],
   "source": [
    "from selenium.webdriver.support import expected_conditions as EC\n",
    "from selenium.webdriver.support.ui import WebDriverWait\n",
    "from convert_curr_code import convert_curr_codes\n",
    "from selenium.webdriver.common.by import By\n",
    "from datetime import datetime, timezone\n",
    "from selenium import webdriver\n",
    "import pandas as pd\n",
    "import time\n",
    "\n",
    "# Store scraped entries to get rid of duplicates\n",
    "scraped_entries = set()\n",
    "#Final List of entries\n",
    "total_entries = []"
   ]
  },
  {
   "cell_type": "markdown",
   "metadata": {},
   "source": [
    "##### **WebDriver Function**"
   ]
  },
  {
   "cell_type": "code",
   "execution_count": 2,
   "metadata": {},
   "outputs": [],
   "source": [
    "def web_driver(headless = False):\n",
    "    \"\"\"\n",
    "    Initializes the Selenium WebDriver and opens the target website.\n",
    "    Returns: WebDriver: The initialized WebDriver instance.\n",
    "    \"\"\"\n",
    "    # Initialize WebDriver\n",
    "    options = webdriver.ChromeOptions()\n",
    "\n",
    "    #Headless Option\n",
    "    if headless:\n",
    "        options.add_argument('--headless')\n",
    "\n",
    "    driver = webdriver.Chrome(options=options)\n",
    "\n",
    "    # Open the target website\n",
    "    driver.get(\"https://www.primeopinion.com/\")\n",
    "\n",
    "    #Closing cookie Alert\n",
    "    WebDriverWait(driver, 10).until(\n",
    "        EC.presence_of_element_located((By.ID, \"onetrust-accept-btn-handler\"))).click()\n",
    "\n",
    "    return driver"
   ]
  },
  {
   "cell_type": "markdown",
   "metadata": {},
   "source": [
    "#### **Payout Information Funtion**"
   ]
  },
  {
   "cell_type": "code",
   "execution_count": 3,
   "metadata": {},
   "outputs": [],
   "source": [
    "def payout_info(driver):\n",
    "    \"\"\"\n",
    "    Extracts payout information like payout provider names, payout amounts,and currency code from a specified web page.\n",
    "    Returns: list of dict: Each dictionary has the following keys:\n",
    "            - \"payout_provider\": The name of the payout provider.\n",
    "            - \"payout_amount\": The amount of the payout.\n",
    "            - \"payout_currency\": The currency of the payout.\n",
    "            - \"timestamp\": The timestamp when the data was extracted.\n",
    "    \"\"\"\n",
    "    try:\n",
    "        # Explicit Wait til the payout transactions are present.\n",
    "        all_transactions = WebDriverWait(driver, 20).until(\n",
    "            EC.presence_of_element_located((By.CLASS_NAME, \"card-list\")))\n",
    "        \n",
    "        #List of all transactions.\n",
    "        entries = WebDriverWait(all_transactions, 20).until(\n",
    "            EC.presence_of_all_elements_located((By.CSS_SELECTOR, '.card-item[data-v-eb25139e]')))\n",
    "        \n",
    "        # Storing required data.\n",
    "        new_data =[]\n",
    "        \n",
    "        try:\n",
    "            #Iterating on each payout.\n",
    "            for entry in entries:\n",
    "                \n",
    "                #Extracting Payout Provider Name.\n",
    "                payout_provider = WebDriverWait(entry, 20).until(\n",
    "                    EC.presence_of_element_located((By.CLASS_NAME, \"card-item__label\"))).text.strip()\n",
    "                \n",
    "                \n",
    "                #Extracting Payout Amount + Currency Symbol.\n",
    "                payout_amount = WebDriverWait(entry, 20).until(\n",
    "                    EC.presence_of_element_located((By.CLASS_NAME, \"card-item__amount\"))).text.strip()\n",
    "                \n",
    "                \n",
    "                #Extracting amount in number and converting it into float data type.\n",
    "                amount = float(payout_amount.split()[0])\n",
    "                \n",
    "                #Converting Currency Symbol to Currency Code.\n",
    "                currency_code = convert_curr_codes(payout_amount.split()[1])\n",
    "                \n",
    "                #Generating Timestamp for each payout.\n",
    "                timestamp = datetime.now(timezone.utc).isoformat()\n",
    "                \n",
    "                #Creating a data tuple to get rid of duplicates.  \n",
    "                entry_id = (payout_provider,amount,currency_code, timestamp)\n",
    "                \n",
    "                #Finding for Duplicates entries. \n",
    "                if entry_id not in scraped_entries:\n",
    "                    \n",
    "                    #If not duplicate add it into a set.\n",
    "                    scraped_entries.add(entry_id)\n",
    "                    \n",
    "                    #Creating a dictionary entry and adding it into a list. \n",
    "                    new_data.append({\n",
    "                        \"payout_provider\": payout_provider,\n",
    "                        \"payout_amount\": amount,\n",
    "                        \"payout_currency\": currency_code,\n",
    "                        \"timestamp\": timestamp})\n",
    "\n",
    "            #Returning new data.\n",
    "            return new_data\n",
    "        \n",
    "        #Exception Handling for Stale Element reference Exception.\n",
    "        except Exception as e:\n",
    "            print(f\"Exception Handled\")\n",
    "\n",
    "    #Exception Handling for other Exceptions.\n",
    "    except Exception as e:\n",
    "        print(f\"Exception Handled, {e}\")"
   ]
  },
  {
   "cell_type": "markdown",
   "metadata": {},
   "source": [
    "**Export data to CSV File**"
   ]
  },
  {
   "cell_type": "code",
   "execution_count": 4,
   "metadata": {},
   "outputs": [],
   "source": [
    "def export_data(total_entries):\n",
    "    \"\"\" \n",
    "    Converts a list of raw data entries into a \n",
    "    pandas DataFrame and exports it to a CSV file.\n",
    "    Return: None\n",
    "    \"\"\"\n",
    "    #Converting raw data into a DataFrame\n",
    "    df = pd.DataFrame(total_entries)\n",
    "    #Export data into CSV File\n",
    "    df.to_csv(\"ScrappedData.csv\", index=False)"
   ]
  },
  {
   "cell_type": "markdown",
   "metadata": {},
   "source": [
    "##### **Main Function**"
   ]
  },
  {
   "cell_type": "code",
   "execution_count": 5,
   "metadata": {},
   "outputs": [],
   "source": [
    "def main():\n",
    "    \"\"\"\n",
    "    Main function uses an infinite loop to repeatedly call the `payout_info` function,\n",
    "    which extracts new payout transactions from the web page. The new data is printed for\n",
    "    testing purposes and appended to a global list of total entries. The function\n",
    "    handles keyboard interrupts to allow graceful termination of the scraper.\n",
    "    Returns: None\n",
    "    \"\"\"\n",
    "    #Opening a WebDriver\n",
    "    driver = web_driver()\n",
    "    try:\n",
    "        while True:\n",
    "            #Extracting new data.\n",
    "            new_data = payout_info(driver)\n",
    "            \n",
    "            if new_data:\n",
    "                for entry in new_data:\n",
    "                    #For Testing.\n",
    "                    print(entry)\n",
    "                    \n",
    "                    #Appending all the entries to a final list.\n",
    "                    total_entries.append(entry)\n",
    "                    \n",
    "            #Sleeping for 1.5 second so that new data get loaded.\n",
    "            time.sleep(1.5)\n",
    "            \n",
    "    #Exception Handling for Keyboard Interrupt.\n",
    "    except KeyboardInterrupt:\n",
    "        print(\"Stopping the scraper...\")\n",
    "\n",
    "    finally:\n",
    "        driver.quit()\n",
    "        export_data(total_entries)"
   ]
  },
  {
   "cell_type": "code",
   "execution_count": null,
   "metadata": {},
   "outputs": [],
   "source": [
    "#Calling a main Function\n",
    "if __name__ == \"__main__\":\n",
    "    main()"
   ]
  }
 ],
 "metadata": {
  "kernelspec": {
   "display_name": "Python 3",
   "language": "python",
   "name": "python3"
  },
  "language_info": {
   "codemirror_mode": {
    "name": "ipython",
    "version": 3
   },
   "file_extension": ".py",
   "mimetype": "text/x-python",
   "name": "python",
   "nbconvert_exporter": "python",
   "pygments_lexer": "ipython3",
   "version": "3.11.9"
  }
 },
 "nbformat": 4,
 "nbformat_minor": 2
}
